{
 "cells": [
  {
   "cell_type": "code",
   "execution_count": 33,
   "metadata": {},
   "outputs": [],
   "source": [
    "import numpy as np"
   ]
  },
  {
   "cell_type": "markdown",
   "metadata": {},
   "source": [
    "## Part a"
   ]
  },
  {
   "cell_type": "code",
   "execution_count": null,
   "metadata": {},
   "outputs": [],
   "source": [
    "H = np.array([\n",
    "        [1, 1],\n",
    "        [1, -1]\n",
    "    ])\n",
    "X = np.array([\n",
    "    [0, 1],\n",
    "    [1, 0]\n",
    "])\n",
    "H3 = np.kron(np.kron(H, H), H)\n",
    "X3 = np.kron(np.kron(X, X), X)\n",
    "CCZ = np.array([\n",
    "    [1, 0, 0, 0, 0, 0, 0, 0],\n",
    "    [0, 1, 0, 0, 0, 0, 0, 0],\n",
    "    [0, 0, 1, 0, 0, 0, 0, 0],\n",
    "    [0, 0, 0, 1, 0, 0, 0, 0],\n",
    "    [0, 0, 0, 0, 1, 0, 0, 0],\n",
    "    [0, 0, 0, 0, 0, 1, 0, 0],\n",
    "    [0, 0, 0, 0, 0, 0, 1, 0],\n",
    "    [0, 0, 0, 0, 0, 0, 0, -1],\n",
    "])\n",
    "\n",
    "\n",
    "diff = np.matmul(np.matmul(np.matmul(np.matmul(H3, X3), CCZ), X3), H3)\n",
    "\n"
   ]
  },
  {
   "cell_type": "code",
   "execution_count": 37,
   "metadata": {},
   "outputs": [
    {
     "data": {
      "text/plain": [
       "array([[ 0.75, -0.25, -0.25, -0.25, -0.25, -0.25, -0.25, -0.25],\n",
       "       [-0.25,  0.75, -0.25, -0.25, -0.25, -0.25, -0.25, -0.25],\n",
       "       [-0.25, -0.25,  0.75, -0.25, -0.25, -0.25, -0.25, -0.25],\n",
       "       [-0.25, -0.25, -0.25,  0.75, -0.25, -0.25, -0.25, -0.25],\n",
       "       [-0.25, -0.25, -0.25, -0.25,  0.75, -0.25, -0.25, -0.25],\n",
       "       [-0.25, -0.25, -0.25, -0.25, -0.25,  0.75, -0.25, -0.25],\n",
       "       [-0.25, -0.25, -0.25, -0.25, -0.25, -0.25,  0.75, -0.25],\n",
       "       [-0.25, -0.25, -0.25, -0.25, -0.25, -0.25, -0.25,  0.75]])"
      ]
     },
     "execution_count": 37,
     "metadata": {},
     "output_type": "execute_result"
    }
   ],
   "source": [
    "diff/8"
   ]
  },
  {
   "cell_type": "markdown",
   "metadata": {},
   "source": [
    "## Part B"
   ]
  },
  {
   "cell_type": "code",
   "execution_count": 44,
   "metadata": {},
   "outputs": [],
   "source": [
    "CCNOT = np.array([\n",
    "    [1, 0, 0, 0, 0, 0, 0, 0],\n",
    "    [0, 1, 0, 0, 0, 0, 0, 0],\n",
    "    [0, 0, 1, 0, 0, 0, 0, 0],\n",
    "    [0, 0, 0, 1, 0, 0, 0, 0],\n",
    "    [0, 0, 0, 0, 1, 0, 0, 0],\n",
    "    [0, 0, 0, 0, 0, 1, 0, 0],\n",
    "    [0, 0, 0, 0, 0, 0, 0, 1],\n",
    "    [0, 0, 0, 0, 0, 0, 1, 0],\n",
    "])\n",
    "CCCNOT = np.array([\n",
    "    [1,0,0,0,0,0,0,0,0,0,0,0,0,0,0,0],\n",
    "    [0,1,0,0,0,0,0,0,0,0,0,0,0,0,0,0],\n",
    "    [0,0,1,0,0,0,0,0,0,0,0,0,0,0,0,0],\n",
    "    [0,0,0,1,0,0,0,0,0,0,0,0,0,0,0,0],\n",
    "    [0,0,0,0,1,0,0,0,0,0,0,0,0,0,0,0],\n",
    "    [0,0,0,0,0,1,0,0,0,0,0,0,0,0,0,0],\n",
    "    [0,0,0,0,0,0,1,0,0,0,0,0,0,0,0,0],\n",
    "    [0,0,0,0,0,0,0,1,0,0,0,0,0,0,0,0],\n",
    "    [0,0,0,0,0,0,0,0,1,0,0,0,0,0,0,0],\n",
    "    [0,0,0,0,0,0,0,0,0,1,0,0,0,0,0,0],\n",
    "    [0,0,0,0,0,0,0,0,0,0,1,0,0,0,0,0],\n",
    "    [0,0,0,0,0,0,0,0,0,0,0,1,0,0,0,0],\n",
    "    [0,0,0,0,0,0,0,0,0,0,0,0,1,0,0,0],\n",
    "    [0,0,0,0,0,0,0,0,0,0,0,0,0,1,0,0],\n",
    "    [0,0,0,0,0,0,0,0,0,0,0,0,0,0,0,1],\n",
    "    [0,0,0,0,0,0,0,0,0,0,0,0,0,0,1,0]\n",
    "])\n"
   ]
  },
  {
   "cell_type": "markdown",
   "metadata": {},
   "source": [
    "### |000>"
   ]
  },
  {
   "cell_type": "code",
   "execution_count": 53,
   "metadata": {},
   "outputs": [
    {
     "ename": "ValueError",
     "evalue": "matmul: Input operand 1 has a mismatch in its core dimension 0, with gufunc signature (n?,k),(k,m?)->(n?,m?) (size 32 is different from 16)",
     "output_type": "error",
     "traceback": [
      "\u001b[0;31m---------------------------------------------------------------------------\u001b[0m",
      "\u001b[0;31mValueError\u001b[0m                                Traceback (most recent call last)",
      "Cell \u001b[0;32mIn[53], line 15\u001b[0m\n\u001b[1;32m     12\u001b[0m X1 \u001b[38;5;241m=\u001b[39m np\u001b[38;5;241m.\u001b[39mkron(np\u001b[38;5;241m.\u001b[39mkron(np\u001b[38;5;241m.\u001b[39meye(\u001b[38;5;241m2\u001b[39m), np\u001b[38;5;241m.\u001b[39marray([[\u001b[38;5;241m0\u001b[39m, \u001b[38;5;241m1\u001b[39m], [\u001b[38;5;241m1\u001b[39m, \u001b[38;5;241m0\u001b[39m]])), np\u001b[38;5;241m.\u001b[39meye(\u001b[38;5;241m4\u001b[39m))\n\u001b[1;32m     14\u001b[0m \u001b[38;5;66;03m# Boolean oracle\u001b[39;00m\n\u001b[0;32m---> 15\u001b[0m boolean_oracle \u001b[38;5;241m=\u001b[39m np\u001b[38;5;241m.\u001b[39mmatmul(\u001b[43mnp\u001b[49m\u001b[38;5;241;43m.\u001b[39;49m\u001b[43mmatmul\u001b[49m\u001b[43m(\u001b[49m\u001b[43mX1\u001b[49m\u001b[43m,\u001b[49m\u001b[43m \u001b[49m\u001b[43mToffoli_with_ancilla\u001b[49m\u001b[43m)\u001b[49m, X1)\n",
      "\u001b[0;31mValueError\u001b[0m: matmul: Input operand 1 has a mismatch in its core dimension 0, with gufunc signature (n?,k),(k,m?)->(n?,m?) (size 32 is different from 16)"
     ]
    }
   ],
   "source": [
    "# Define Toffoli gate\n",
    "Toffoli = np.eye(16)\n",
    "Toffoli[14, 14] = 0\n",
    "Toffoli[14, 15] = 1\n",
    "Toffoli[15, 14] = 1\n",
    "Toffoli[15, 15] = 0\n",
    "\n",
    "# Add ancillary qubit as identity\n",
    "Toffoli_with_ancilla = np.kron(Toffoli, np.eye(2))\n",
    "\n",
    "# X gate on q1\n",
    "X1 = np.kron(np.kron(np.eye(2), np.array([[0, 1], [1, 0]])), np.eye(4))\n",
    "\n",
    "# Boolean oracle\n",
    "boolean_oracle = np.matmul(np.matmul(X1, Toffoli_with_ancilla), X1)"
   ]
  },
  {
   "cell_type": "code",
   "execution_count": null,
   "metadata": {},
   "outputs": [
    {
     "name": "stdout",
     "output_type": "stream",
     "text": [
      "Boolean\n"
     ]
    }
   ],
   "source": [
    "I = np.array([\n",
    "    [1, 0],\n",
    "    [0, 1]\n",
    "])\n",
    "X3I = np.kron(X3, I)\n",
    "print(\"Boolean\")\n",
    "ket000 = X3I @ CCCNOT @ X3I"
   ]
  },
  {
   "cell_type": "code",
   "execution_count": null,
   "metadata": {},
   "outputs": [
    {
     "name": "stdout",
     "output_type": "stream",
     "text": [
      "0 & 1 & 0 & 0 & 0 & 0 & 0 & 0 & 0 & 0 & 0 & 0 & 0 & 0 & 0 & 0 \\\\\n",
      "1 & 0 & 0 & 0 & 0 & 0 & 0 & 0 & 0 & 0 & 0 & 0 & 0 & 0 & 0 & 0 \\\\\n",
      "0 & 0 & 1 & 0 & 0 & 0 & 0 & 0 & 0 & 0 & 0 & 0 & 0 & 0 & 0 & 0 \\\\\n",
      "0 & 0 & 0 & 1 & 0 & 0 & 0 & 0 & 0 & 0 & 0 & 0 & 0 & 0 & 0 & 0 \\\\\n",
      "0 & 0 & 0 & 0 & 1 & 0 & 0 & 0 & 0 & 0 & 0 & 0 & 0 & 0 & 0 & 0 \\\\\n",
      "0 & 0 & 0 & 0 & 0 & 1 & 0 & 0 & 0 & 0 & 0 & 0 & 0 & 0 & 0 & 0 \\\\\n",
      "0 & 0 & 0 & 0 & 0 & 0 & 1 & 0 & 0 & 0 & 0 & 0 & 0 & 0 & 0 & 0 \\\\\n",
      "0 & 0 & 0 & 0 & 0 & 0 & 0 & 1 & 0 & 0 & 0 & 0 & 0 & 0 & 0 & 0 \\\\\n",
      "0 & 0 & 0 & 0 & 0 & 0 & 0 & 0 & 1 & 0 & 0 & 0 & 0 & 0 & 0 & 0 \\\\\n",
      "0 & 0 & 0 & 0 & 0 & 0 & 0 & 0 & 0 & 1 & 0 & 0 & 0 & 0 & 0 & 0 \\\\\n",
      "0 & 0 & 0 & 0 & 0 & 0 & 0 & 0 & 0 & 0 & 1 & 0 & 0 & 0 & 0 & 0 \\\\\n",
      "0 & 0 & 0 & 0 & 0 & 0 & 0 & 0 & 0 & 0 & 0 & 1 & 0 & 0 & 0 & 0 \\\\\n",
      "0 & 0 & 0 & 0 & 0 & 0 & 0 & 0 & 0 & 0 & 0 & 0 & 1 & 0 & 0 & 0 \\\\\n",
      "0 & 0 & 0 & 0 & 0 & 0 & 0 & 0 & 0 & 0 & 0 & 0 & 0 & 1 & 0 & 0 \\\\\n",
      "0 & 0 & 0 & 0 & 0 & 0 & 0 & 0 & 0 & 0 & 0 & 0 & 0 & 0 & 1 & 0 \\\\\n",
      "0 & 0 & 0 & 0 & 0 & 0 & 0 & 0 & 0 & 0 & 0 & 0 & 0 & 0 & 0 & 1 \\\\\n"
     ]
    }
   ],
   "source": [
    "for i in ket000:\n",
    "    print(\" & \".join([str( i) for i in list(i)]) + \" \\\\\\\\\")"
   ]
  },
  {
   "cell_type": "code",
   "execution_count": 68,
   "metadata": {},
   "outputs": [
    {
     "name": "stdout",
     "output_type": "stream",
     "text": [
      "1 & 0 & 0 & 0 & 0 & 0 & 0 & 0 \\\\\n",
      "0 & 1 & 0 & 0 & 0 & 0 & 0 & 0 \\\\\n",
      "0 & 0 & 1 & 0 & 0 & 0 & 0 & 0 \\\\\n",
      "0 & 0 & 0 & 1 & 0 & 0 & 0 & 0 \\\\\n",
      "0 & 0 & 0 & 0 & 1 & 0 & 0 & 0 \\\\\n",
      "0 & 0 & 0 & 0 & 0 & 1 & 0 & 0 \\\\\n",
      "0 & 0 & 0 & 0 & 0 & 0 & 1 & 0 \\\\\n",
      "0 & 0 & 0 & 0 & 0 & 0 & 0 & 1 \\\\\n"
     ]
    }
   ],
   "source": [
    "for i in np.eye(8):\n",
    "    print(\" & \".join([str(int(i)) for i in list(i)]) + \" \\\\\\\\\")"
   ]
  }
 ],
 "metadata": {
  "kernelspec": {
   "display_name": ".venv",
   "language": "python",
   "name": "python3"
  },
  "language_info": {
   "codemirror_mode": {
    "name": "ipython",
    "version": 3
   },
   "file_extension": ".py",
   "mimetype": "text/x-python",
   "name": "python",
   "nbconvert_exporter": "python",
   "pygments_lexer": "ipython3",
   "version": "3.12.4"
  }
 },
 "nbformat": 4,
 "nbformat_minor": 2
}
