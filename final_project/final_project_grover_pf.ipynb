{
 "cells": [
  {
   "cell_type": "code",
   "execution_count": 13,
   "metadata": {},
   "outputs": [],
   "source": [
    "from qiskit import QuantumCircuit, transpile, assemble\n",
    "from qiskit.quantum_info import Operator\n",
    "from qiskit.circuit.library import CCZGate\n",
    "from qiskit_aer import Aer\n",
    "import numpy as np\n",
    "import matplotlib.pyplot as plt\n",
    "from qiskit.transpiler import PassManager, CouplingMap\n",
    "from qiskit.transpiler.passes import BasisTranslator\n",
    "from qiskit import transpile\n",
    "from qiskit_aer.noise import (\n",
    "    NoiseModel,\n",
    "    QuantumError,\n",
    "    ReadoutError,\n",
    "    depolarizing_error,\n",
    "    pauli_error,\n",
    "    thermal_relaxation_error,\n",
    ")\n",
    "import random"
   ]
  },
  {
   "cell_type": "code",
   "execution_count": 2,
   "metadata": {},
   "outputs": [],
   "source": [
    "P = np.arcsin(np.sqrt(2/3))\n",
    "PI = np.pi"
   ]
  },
  {
   "cell_type": "code",
   "execution_count": 18,
   "metadata": {},
   "outputs": [],
   "source": [
    "backend = Aer.get_backend('qasm_simulator')\n",
    "backend_options = {'method': 'statevector'}"
   ]
  },
  {
   "cell_type": "code",
   "execution_count": 28,
   "metadata": {},
   "outputs": [],
   "source": [
    "def run_simulation(quantum_circuit, backend_options=backend_options, noise_model=None, name='psi_1', shots=1000):\n",
    "    job = backend.run(quantum_circuit, run_options=backend_options, noise_model=noise_model, shots=shots)\n",
    "    result    = job.result()\n",
    "    return result.get_counts()"
   ]
  },
  {
   "cell_type": "code",
   "execution_count": 5,
   "metadata": {},
   "outputs": [],
   "source": [
    "def cz(qc):\n",
    "    qc.ry(-PI / 2, 0)\n",
    "    qc.ry(-PI / 2, 1)\n",
    "    qc.ry(PI / 2, 2)\n",
    "\n",
    "    qc.rx(3*PI / 4, 0)\n",
    "    qc.rx(PI / 2, 1)\n",
    "    qc.rx(PI / 4, 2)\n",
    "\n",
    "    qc.rxx(PI / 4, 0, 2)\n",
    "\n",
    "    qc.rxx(PI / 4, 1, 2)\n",
    "\n",
    "    qc.r(-2*PI / 3, PI-P, 1)\n",
    "\n",
    "    qc.rxx(PI / 2, 0, 1)\n",
    "\n",
    "    qc.r(-2*PI / 3, PI - P, 1)\n",
    "    qc.rxx(PI / 4, 1, 2)\n",
    "    qc.r(PI, -PI / 4, 1)\n",
    "    qc.rxx(PI / 2, 0, 1)\n",
    "    qc.id(2)\n",
    "    qc.id(2)\n",
    "    qc.ry(PI / 2, 0)\n",
    "    qc.ry(-PI / 2, 2)\n",
    "\n",
    "\n",
    "\n",
    "def grover_with_pauli_error(cycles, error):\n",
    "\n",
    "    qc = QuantumCircuit(3)\n",
    "\n",
    "    qc.h(0)\n",
    "    qc.h(1)\n",
    "    qc.h(2)\n",
    "\n",
    "    for _ in range(cycles):\n",
    "        # Oracle\n",
    "        qc.x(0)\n",
    "        qc.x(1)\n",
    "        qc.x(2)\n",
    "        cz(qc)\n",
    "\n",
    "        qc.x(0)\n",
    "        qc.x(1)\n",
    "        qc.x(2)\n",
    "\n",
    "        # Diffusion\n",
    "        qc.h(0)\n",
    "        qc.h(1)\n",
    "        qc.h(2)\n",
    "        qc.x(0)\n",
    "        qc.x(1)\n",
    "        qc.x(2)\n",
    "\n",
    "        cz(qc)\n",
    "\n",
    "        qc.x(0)\n",
    "        qc.x(1)\n",
    "        qc.x(2)\n",
    "\n",
    "        qc.h(0)\n",
    "        qc.h(1)\n",
    "        qc.h(2)\n",
    "\n",
    "    qc.measure_all()\n",
    "    noise_model = NoiseModel()\n",
    "    xx_error = pauli_error([('XX', error), ('II', 1-error)])\n",
    "    x_error = pauli_error([('X', error), ('I', 1-error)])\n",
    "    y_error = pauli_error([('Y', error), ('I', 1-error)])\n",
    "    z_error = pauli_error([('Z', error), ('I', 1-error)])\n",
    "    \n",
    "    noise_model.add_all_qubit_quantum_error(xx_error, ['rxx'])\n",
    "    noise_model.add_all_qubit_quantum_error(x_error, ['rx'])\n",
    "    noise_model.add_all_qubit_quantum_error(y_error, ['ry'])\n",
    "    return run_simulation(qc, name='psi_out', noise_model=noise_model)\n"
   ]
  },
  {
   "cell_type": "code",
   "execution_count": 27,
   "metadata": {},
   "outputs": [
    {
     "data": {
      "text/plain": [
       "{'000': 1}"
      ]
     },
     "execution_count": 27,
     "metadata": {},
     "output_type": "execute_result"
    }
   ],
   "source": [
    "grover_with_pauli_error(2, 0.001)"
   ]
  },
  {
   "cell_type": "code",
   "execution_count": 15,
   "metadata": {},
   "outputs": [
    {
     "data": {
      "text/plain": [
       "0.032340328181332166"
      ]
     },
     "execution_count": 15,
     "metadata": {},
     "output_type": "execute_result"
    }
   ],
   "source": [
    "random.gauss(0, 0.1)"
   ]
  },
  {
   "cell_type": "code",
   "execution_count": 47,
   "metadata": {},
   "outputs": [],
   "source": [
    "def angle_with_err(angle, err):\n",
    "    return random.gauss(angle, angle * err)\n",
    "\n",
    "def cz_err(qc, err):\n",
    "\n",
    "    qc.ry(angle_with_err(-PI / 2, err), 0)\n",
    "    qc.ry(angle_with_err(-PI / 2, err), 1)\n",
    "    qc.ry(angle_with_err(PI / 2, err), 2)\n",
    "\n",
    "    qc.rx(angle_with_err(3*PI / 4, err), 0)\n",
    "    qc.rx(angle_with_err(PI / 2, err), 1)\n",
    "    qc.rx(angle_with_err(PI / 4, err), 2)\n",
    "\n",
    "    qc.rxx(angle_with_err(PI / 4, err), 0, 2)\n",
    "\n",
    "    qc.rxx(angle_with_err(PI / 4, err), 1, 2)\n",
    "\n",
    "    qc.r(angle_with_err(-2*PI / 3, err), angle_with_err(PI-P, err), 1)\n",
    "\n",
    "    qc.rxx(angle_with_err(PI / 2, err), 0, 1)\n",
    "\n",
    "    qc.r(angle_with_err(-2*PI / 3, err), angle_with_err(PI - P, err), 1)\n",
    "    qc.rxx(angle_with_err(PI / 4, err), 1, 2)\n",
    "    qc.r(angle_with_err(PI, err), angle_with_err(-PI / 4, err), 1)\n",
    "    qc.rxx(angle_with_err(PI / 2, err), 0, 1)\n",
    "    qc.id(2)\n",
    "    qc.id(2)\n",
    "    qc.ry(angle_with_err(PI / 2, err), 0)\n",
    "    qc.ry(angle_with_err(-PI / 2, err), 2)\n",
    "\n",
    "\n",
    "def grover_with_angle_error(cycles, error, shots=1000):\n",
    "    correct = 0\n",
    "    for _ in range(shots):\n",
    "        qc = QuantumCircuit(3)\n",
    "\n",
    "        qc.h(0)\n",
    "        qc.h(1)\n",
    "        qc.h(2)\n",
    "\n",
    "        for _ in range(cycles):\n",
    "            # Oracle\n",
    "            qc.x(0)\n",
    "            qc.x(1)\n",
    "            qc.x(2)\n",
    "            cz_err(qc, error)\n",
    "\n",
    "            qc.x(0)\n",
    "            qc.x(1)\n",
    "            qc.x(2)\n",
    "\n",
    "            # Diffusion\n",
    "            qc.h(0)\n",
    "            qc.h(1)\n",
    "            qc.h(2)\n",
    "            qc.x(0)\n",
    "            qc.x(1)\n",
    "            qc.x(2)\n",
    "\n",
    "            cz_err(qc, error)\n",
    "\n",
    "            qc.x(0)\n",
    "            qc.x(1)\n",
    "            qc.x(2)\n",
    "\n",
    "            qc.h(0)\n",
    "            qc.h(1)\n",
    "            qc.h(2)\n",
    "\n",
    "        qc.measure_all()\n",
    "        result = run_simulation(qc, name='psi_out', shots=1)\n",
    "        correct += result[\"000\"] if \"000\" in result else 0\n",
    "    return correct"
   ]
  },
  {
   "cell_type": "code",
   "execution_count": 60,
   "metadata": {},
   "outputs": [
    {
     "data": {
      "text/plain": [
       "479"
      ]
     },
     "execution_count": 60,
     "metadata": {},
     "output_type": "execute_result"
    }
   ],
   "source": [
    "grover_with_angle_error(2, 0.1)\n"
   ]
  }
 ],
 "metadata": {
  "kernelspec": {
   "display_name": ".venv",
   "language": "python",
   "name": "python3"
  },
  "language_info": {
   "codemirror_mode": {
    "name": "ipython",
    "version": 3
   },
   "file_extension": ".py",
   "mimetype": "text/x-python",
   "name": "python",
   "nbconvert_exporter": "python",
   "pygments_lexer": "ipython3",
   "version": "3.12.4"
  }
 },
 "nbformat": 4,
 "nbformat_minor": 2
}
