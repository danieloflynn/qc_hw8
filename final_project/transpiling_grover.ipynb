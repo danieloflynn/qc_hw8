{
 "cells": [
  {
   "cell_type": "code",
   "execution_count": 62,
   "metadata": {},
   "outputs": [],
   "source": [
    "from qiskit_ibm_transpiler.transpiler_service import TranspilerService\n",
    "from qiskit import QuantumCircuit, transpile, assemble\n",
    "from qiskit.quantum_info import Operator\n",
    "from qiskit.circuit.library import CCZGate\n",
    "from qiskit_aer import AerSimulator\n",
    "import numpy as np\n",
    "import matplotlib.pyplot as plt\n",
    "from qiskit.transpiler import PassManager, CouplingMap\n",
    "from qiskit.transpiler.passes import BasisTranslator\n",
    "from qiskit import transpile\n",
    "from qiskit_ibm_provider import IBMProvider\n",
    "from qiskit_ibm_runtime import QiskitRuntimeService\n",
    "from qiskit.transpiler.preset_passmanagers import generate_preset_pass_manager\n",
    "from qiskit_ibm_runtime.fake_provider import FakeKyiv, FakeTorino\n",
    "from qiskit_aer.noise import NoiseModel"
   ]
  },
  {
   "cell_type": "code",
   "execution_count": 63,
   "metadata": {},
   "outputs": [],
   "source": [
    "QiskitRuntimeService.save_account(channel=\"ibm_quantum\", token=\"\", overwrite=True)"
   ]
  },
  {
   "cell_type": "code",
   "execution_count": 64,
   "metadata": {},
   "outputs": [],
   "source": [
    "def cz(qc):\n",
    "    qc.ry(-PI / 2, 0)\n",
    "    qc.ry(-PI / 2, 1)\n",
    "    qc.ry(PI / 2, 2)\n",
    "\n",
    "    qc.rx(3*PI / 4, 0)\n",
    "    qc.rx(PI / 2, 1)\n",
    "    qc.rx(PI / 4, 2)\n",
    "\n",
    "    qc.rxx(PI / 4, 0, 2)\n",
    "\n",
    "    qc.rxx(PI / 4, 1, 2)\n",
    "\n",
    "    qc.r(-2*PI / 3, PI-P, 1)\n",
    "\n",
    "    qc.rxx(PI / 2, 0, 1)\n",
    "\n",
    "    qc.r(-2*PI / 3, PI - P, 1)\n",
    "    qc.rxx(PI / 4, 1, 2)\n",
    "    qc.r(PI, -PI / 4, 1)\n",
    "    qc.rxx(PI / 2, 0, 1)\n",
    "    qc.id(2)\n",
    "    qc.id(2)\n",
    "    qc.ry(PI / 2, 0)\n",
    "    qc.ry(-PI / 2, 2)\n",
    "\n",
    "\n",
    "def grover(q0, q1, q2):\n",
    "    PI = np.pi\n",
    "    P = np.arcsin(np.sqrt(2/3))\n",
    "\n",
    "    qc = QuantumCircuit(3)\n",
    "\n",
    "    qc.h(0)\n",
    "    qc.h(1)\n",
    "    qc.h(2)\n",
    "\n",
    "    oracle(qc, q0, q1, q2)\n",
    "\n",
    "    # Diffusion\n",
    "    qc.h(0)\n",
    "    qc.h(1)\n",
    "    qc.h(2)\n",
    "    qc.x(0)\n",
    "    qc.x(1)\n",
    "    qc.x(2)\n",
    "\n",
    "    cz(qc)\n",
    "\n",
    "    qc.x(0)\n",
    "    qc.x(1)\n",
    "    qc.x(2)\n",
    "\n",
    "    qc.h(0)\n",
    "    qc.h(1)\n",
    "    qc.h(2)\n",
    "\n",
    "    qc.measure_all()\n",
    "\n",
    "    return qc\n",
    "\n",
    "\n",
    "def oracle(qc, q0, q1, q2):\n",
    "\n",
    "    if q0 == 0:\n",
    "        qc.x(0)\n",
    "    if q1 == 0:\n",
    "        qc.x(1)\n",
    "    if q2 == 0:\n",
    "        qc.x(2)\n",
    "\n",
    "    cz(qc)\n",
    "\n",
    "    if q0 == 0:\n",
    "        qc.x(0)\n",
    "    if q1 == 0:\n",
    "        qc.x(1)\n",
    "    if q2 ==0:\n",
    "        qc.x(2)\n",
    "    "
   ]
  },
  {
   "cell_type": "code",
   "execution_count": 65,
   "metadata": {},
   "outputs": [],
   "source": [
    "simulator = AerSimulator()"
   ]
  },
  {
   "cell_type": "code",
   "execution_count": 66,
   "metadata": {},
   "outputs": [],
   "source": [
    "backend_ecr = FakeKyiv()\n",
    "pass_manager_ecr = generate_preset_pass_manager(optimization_level=3, backend = backend_ecr)"
   ]
  },
  {
   "cell_type": "code",
   "execution_count": 67,
   "metadata": {},
   "outputs": [],
   "source": [
    "backend_cz = FakeTorino()\n",
    "pass_manager_cz = generate_preset_pass_manager(optimization_level=3, backend = backend_cz)"
   ]
  },
  {
   "cell_type": "code",
   "execution_count": 68,
   "metadata": {},
   "outputs": [],
   "source": [
    "ecr_noise = NoiseModel.from_backend(backend_ecr)\n",
    "cz_noise = NoiseModel.from_backend(backend_cz)"
   ]
  },
  {
   "cell_type": "code",
   "execution_count": 146,
   "metadata": {},
   "outputs": [
    {
     "name": "stdout",
     "output_type": "stream",
     "text": [
      "initialized 0, 0, 0 {'001': 43, '101': 44, '110': 38, '100': 57, '011': 55, '111': 51, '010': 61, '000': 675}\n",
      "initialized 1, 0, 0 {'001': 38, '010': 45, '000': 61, '110': 47, '101': 45, '011': 36, '111': 52, '100': 700}\n",
      "initialized 0, 1, 0 {'001': 51, '110': 50, '100': 43, '011': 60, '111': 43, '000': 44, '010': 694, '101': 39}\n",
      "initialized 1, 1, 0 {'101': 48, '011': 52, '111': 50, '100': 42, '110': 695, '000': 48, '010': 45, '001': 44}\n",
      "initialized 0, 0, 1 {'100': 42, '110': 55, '101': 55, '111': 33, '011': 63, '010': 43, '000': 57, '001': 676}\n",
      "initialized 1, 0, 1 {'001': 42, '111': 61, '011': 41, '100': 74, '010': 38, '000': 39, '110': 47, '101': 682}\n",
      "initialized 0, 1, 1 {'001': 48, '100': 43, '110': 35, '101': 48, '000': 55, '010': 43, '111': 60, '011': 692}\n",
      "initialized 1, 1, 1 {'001': 44, '110': 42, '101': 55, '100': 62, '011': 51, '111': 681, '010': 46, '000': 43}\n"
     ]
    }
   ],
   "source": [
    "ecr_results = {}\n",
    "for q0 in range(2):\n",
    "    for q1 in range(2):\n",
    "        for q2 in range(2):\n",
    "            qc = grover(q0, q1, q2)\n",
    "            transpiled_qc_ecr = pass_manager_ecr.run(qc)\n",
    "            result_ecr = simulator.run(transpiled_qc_ecr, noise_model=ecr_noise).result()\n",
    "            ecr_results[f\"{q2}{q1}{q0}\"] = result_ecr.get_counts()\n",
    "            print(f\"initialized {q2}, {q1}, {q0}\", ecr_results[f\"{q2}{q1}{q0}\"] )\n",
    "\n"
   ]
  },
  {
   "cell_type": "code",
   "execution_count": null,
   "metadata": {},
   "outputs": [
    {
     "name": "stdout",
     "output_type": "stream",
     "text": [
      "initialized 0, 0, 0 {'011': 40, '111': 45, '101': 37, '110': 40, '001': 64, '010': 52, '000': 705, '100': 41}\n",
      "initialized 1, 0, 0 {'011': 38, '111': 33, '001': 46, '110': 51, '010': 47, '000': 57, '101': 58, '100': 694}\n",
      "initialized 0, 1, 0 {'101': 34, '111': 38, '011': 49, '110': 59, '001': 49, '000': 47, '010': 712, '100': 36}\n",
      "initialized 1, 1, 0 {'000': 33, '010': 51, '101': 48, '011': 42, '111': 47, '100': 50, '001': 43, '110': 710}\n",
      "initialized 0, 0, 1 {'110': 33, '100': 37, '010': 31, '000': 51, '101': 58, '001': 729, '111': 27, '011': 58}\n",
      "initialized 1, 0, 1 {'010': 38, '000': 27, '110': 40, '100': 56, '011': 49, '111': 55, '001': 47, '101': 712}\n",
      "initialized 0, 1, 1 {'110': 24, '101': 36, '001': 57, '100': 36, '010': 64, '000': 42, '111': 50, '011': 715}\n",
      "initialized 1, 1, 1 {'000': 32, '010': 41, '110': 36, '101': 41, '100': 48, '011': 39, '111': 756, '001': 31}\n"
     ]
    }
   ],
   "source": [
    "cz_results = {}\n",
    "for q0 in range(2):\n",
    "    for q1 in range(2):\n",
    "        for q2 in range(2):\n",
    "            qc = grover(q0, q1, q2)\n",
    "            transpiled_qc_cz = pass_manager_cz.run(qc)\n",
    "            result_cz = simulator.run(transpiled_qc_cz, noise_model=cz_noise).result()\n",
    "            cz_results[f\"{q2}{q1}{q0}\"] = result_cz.get_counts()\n",
    "            print(f\"initialized {q2}, {q1}, {q0}\", cz_results[f\"{q2}{q1}{q0}\"])"
   ]
  },
  {
   "cell_type": "code",
   "execution_count": 116,
   "metadata": {},
   "outputs": [
    {
     "data": {
      "text/plain": [
       "np.float64(1.0046463803750187)"
      ]
     },
     "execution_count": 116,
     "metadata": {},
     "output_type": "execute_result"
    }
   ],
   "source": [
    "np.sqrt(0.705 * pos_tag) + 7 * np.sqrt(0.045 * false_tag)\n"
   ]
  },
  {
   "cell_type": "code",
   "execution_count": 132,
   "metadata": {},
   "outputs": [],
   "source": [
    "def calc_sso(pos_tag, false_tag, result_dict):\n",
    "    sso = {}\n",
    "    apt = {}\n",
    "    for oracle_key, results in result_dict.items():\n",
    "        sso[oracle_key] = 0\n",
    "        for output_key, count in results.items():\n",
    "            normalized_count = count/1024\n",
    "            if output_key == oracle_key:\n",
    "                sso[oracle_key] += (pos_tag*normalized_count)**0.5\n",
    "                apt[oracle_key] = normalized_count\n",
    "            else:\n",
    "                sso[oracle_key] += (false_tag*normalized_count)**0.5\n",
    "            # print(sso[oracle_key])\n",
    "        sso[oracle_key] = sso[oracle_key]**2\n",
    "    return sso, apt"
   ]
  },
  {
   "cell_type": "code",
   "execution_count": 133,
   "metadata": {},
   "outputs": [],
   "source": [
    "false_tag = 0.1767766953**2"
   ]
  },
  {
   "cell_type": "code",
   "execution_count": 134,
   "metadata": {},
   "outputs": [
    {
     "data": {
      "text/plain": [
       "1.0000000000380493"
      ]
     },
     "execution_count": 134,
     "metadata": {},
     "output_type": "execute_result"
    }
   ],
   "source": [
    "false_tag * 7 + pos_tag"
   ]
  },
  {
   "cell_type": "code",
   "execution_count": 150,
   "metadata": {},
   "outputs": [
    {
     "data": {
      "text/plain": [
       "0.781250000029726"
      ]
     },
     "execution_count": 150,
     "metadata": {},
     "output_type": "execute_result"
    }
   ],
   "source": [
    "pos_tag"
   ]
  },
  {
   "cell_type": "code",
   "execution_count": 135,
   "metadata": {},
   "outputs": [],
   "source": [
    "pos_tag = 0.8838834765**2"
   ]
  },
  {
   "cell_type": "code",
   "execution_count": 136,
   "metadata": {},
   "outputs": [
    {
     "name": "stdout",
     "output_type": "stream",
     "text": [
      "({'000': 0.9867214709728402, '100': 0.9840882728756427, '010': 0.9882071869327362, '110': 0.9888598616778357, '001': 0.9883764422191015, '101': 0.9871983447137449, '011': 0.9854549041960499, '111': 0.9962691138773399}, {'000': 0.6884765625, '100': 0.677734375, '010': 0.6953125, '110': 0.693359375, '001': 0.7119140625, '101': 0.6953125, '011': 0.6982421875, '111': 0.73828125})\n"
     ]
    }
   ],
   "source": [
    "print(calc_sso(pos_tag, false_tag, cz_results))"
   ]
  },
  {
   "cell_type": "code",
   "execution_count": 153,
   "metadata": {},
   "outputs": [
    {
     "name": "stdout",
     "output_type": "stream",
     "text": [
      "({'000': 0.9797443384593431, '100': 0.9859743272324797, '010': 0.9851581821715406, '110': 0.9862995287674932, '001': 0.9789309019007851, '101': 0.9793127539534757, '011': 0.984149617759976, '111': 0.9818085517686611}, {'000': 0.6591796875, '100': 0.68359375, '010': 0.677734375, '110': 0.6787109375, '001': 0.66015625, '101': 0.666015625, '011': 0.67578125, '111': 0.6650390625})\n"
     ]
    }
   ],
   "source": [
    "print(calc_sso(pos_tag, false_tag, ecr_results))\n"
   ]
  },
  {
   "cell_type": "code",
   "execution_count": 151,
   "metadata": {},
   "outputs": [
    {
     "data": {
      "image/png": "[encoded data removed]",
      "text/plain": [
       "<Figure size 640x480 with 2 Axes>"
      ]
     },
     "metadata": {},
     "output_type": "display_data"
    }
   ],
   "source": [
    "import matplotlib.pyplot as plt\n",
    "import numpy as np\n",
    "from matplotlib.colors import LinearSegmentedColormap\n",
    "\n",
    "# Create a 4x4 grid of values (representing different detected states)\n",
    "data = [[cz_results[f\"{i}{j}{k}\"][f\"{l}{m}{n}\"]/1024 for l in range(2) for m in range(2) for n in range(2)] for i in range(2) for j in range(2) for k in range(2)]\n",
    "\n",
    "colors = [\"#FFFFFF\",\"#00CED1\", \"#00008B\"] \n",
    "cmap = LinearSegmentedColormap.from_list(\"darkblue_to_turquoise\", colors)\n",
    "\n",
    "# Create a figure and axes\n",
    "fig, ax = plt.subplots()\n",
    "\n",
    "# Display the data using the custom color map\n",
    "cax = ax.matshow(data, cmap=cmap)\n",
    "\n",
    "# Add a colorbar\n",
    "fig.colorbar(cax)\n",
    "\n",
    "# Set the axis labels\n",
    "ax.set_xticks(np.arange(8))\n",
    "ax.set_yticks(np.arange(8))\n",
    "\n",
    "# Add the detected state labels along x-axis and phase oracles label\n",
    "ax.set_xticklabels(['000', '001', '010', '011', '100', '101', '110', '111'])\n",
    "ax.set_yticklabels(['000', '001', '010', '011', '100', '101', '110', '111'])\n",
    "\n",
    "# Set title and axis labels\n",
    "ax.set_title('CZ Phase oracles')\n",
    "ax.set_xlabel('Detected state')\n",
    "ax.set_ylabel('Marked state')\n",
    "\n",
    "# Show the plot\n",
    "plt.show()"
   ]
  },
  {
   "cell_type": "code",
   "execution_count": 148,
   "metadata": {},
   "outputs": [
    {
     "data": {
      "image/png": "[encoded data removed]",
      "text/plain": [
       "<Figure size 640x480 with 2 Axes>"
      ]
     },
     "metadata": {},
     "output_type": "display_data"
    }
   ],
   "source": [
    "# Create a 4x4 grid of values (representing different detected states)\n",
    "data = [[ecr_results[f\"{i}{j}{k}\"][f\"{l}{m}{n}\"]/1024 for l in range(2) for m in range(2) for n in range(2)] for i in range(2) for j in range(2) for k in range(2)]\n",
    "\n",
    "colors = [\"#FFFFFF\",\"#00CED1\", \"#00008B\"] \n",
    "cmap = LinearSegmentedColormap.from_list(\"darkblue_to_turquoise\", colors)\n",
    "\n",
    "# Create a figure and axes\n",
    "fig, ax = plt.subplots()\n",
    "\n",
    "# Display the data using the custom color map\n",
    "cax = ax.matshow(data, cmap=cmap)\n",
    "\n",
    "# Add a colorbar\n",
    "fig.colorbar(cax)\n",
    "\n",
    "# Set the axis labels\n",
    "ax.set_xticks(np.arange(8))\n",
    "ax.set_yticks(np.arange(8))\n",
    "\n",
    "# Add the detected state labels along x-axis and phase oracles label\n",
    "ax.set_xticklabels(['000', '001', '010', '011', '100', '101', '110', '111'])\n",
    "ax.set_yticklabels(['000', '001', '010', '011', '100', '101', '110', '111'])\n",
    "\n",
    "# Set title and axis labels\n",
    "ax.set_title('ECR Phase oracles')\n",
    "ax.set_xlabel('Detected state')\n",
    "ax.set_ylabel('Marked state')\n",
    "\n",
    "# Show the plot\n",
    "plt.show()"
   ]
  }
 ],
 "metadata": {
  "kernelspec": {
   "display_name": ".venv",
   "language": "python",
   "name": "python3"
  },
  "language_info": {
   "codemirror_mode": {
    "name": "ipython",
    "version": 3
   },
   "file_extension": ".py",
   "mimetype": "text/x-python",
   "name": "python",
   "nbconvert_exporter": "python",
   "pygments_lexer": "ipython3",
   "version": "3.12.4"
  }
 },
 "nbformat": 4,
 "nbformat_minor": 2
}
